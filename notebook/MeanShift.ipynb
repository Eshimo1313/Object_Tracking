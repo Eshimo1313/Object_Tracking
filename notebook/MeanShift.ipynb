{
 "cells": [
  {
   "cell_type": "markdown",
   "metadata": {},
   "source": [
    "<div dir=\"rtl\" style=\"line-height: 1.9\">\n",
    "<h1>عرفان شیرمحمدی</h1>\n",
    "</div>"
   ]
  },
  {
   "cell_type": "code",
   "execution_count": 1,
   "metadata": {},
   "outputs": [],
   "source": [
    "import cv2\n",
    "import numpy as np\n",
    "import IPython"
   ]
  },
  {
   "cell_type": "markdown",
   "metadata": {
    "vscode": {
     "languageId": "html"
    }
   },
   "source": [
    "<div dir=\"rtl\" style=\"line-height: 1.9\">\n",
    "  <h1>Mean Shift </h1>\n",
    "  <p>الگوریتم شیفت میانگین یک تکنیک خوشه بندی غیر پارامتری است که برای شناسایی\n",
    "    خوشه هایی از داده(نقاط) برای یک مجموعه بدون برچشب استفاده میشود</p>\n",
    "  <p>با تغییر مکرر به سمت مناطق با چگالی بالاتر نقاط ، این الگوریتم خوشه‌های داده\n",
    "    را بدون نیاز به فرضیات ایجاد می‌کند.</p>\n",
    "  <p>طرض کار این الگوریتم به این صورت است که فرض میکنیم مجموعه از نقاط داده که میتوند توزیعی از پیکسل ها و یا هیستوگرام\n",
    "    باشد داریم و پنجره ای داریم که باید این پنجره را به ناحیه ای که حداکثر تراکم پیکسلی یا نقاط را دارد منتقل کنیم مانند\n",
    "    تصویر زیر :</p>\n",
    "\n",
    "  <p style=\"text-align:center\"><img src=\"https://docs.opencv.org/4.10.0/meanshift_basics.jpg\" /></p>\n",
    "\n",
    "  <p>الگوریتم Mean Shift الگوریتم تپه نوردی محسوب میشود که از تریغ شیفت دادن مکرر کرنل به ناحیه ای با تراکم بالاتر داده\n",
    "    تا زمان همگرایی سنتروید و مرکز چنجره است </p>\n",
    "\n",
    "  <p>هر تغییر با یک بردار تغییر میانگین تعریف می شود. بردار تغییر میانگین همیشه به سمت حداکثر افزایش چگالی اشاره می کند\n",
    "  </p>\n",
    "  <p style=\"text-align:center\"><img src=\"https://upload.wikimedia.org/wikipedia/commons/b/bd/Meanshiftred.gif\"></p>\n",
    "\n",
    "  <p>نقاط قوت</p>\n",
    "  <li>انعطاف پذیر : به خوشه از پیش تعریف شده اشکال یا اعداد نیاز ندارد</li>\n",
    "  <li>خوشه ها به هر شگلی میتوانند باشند</li>\n",
    "  <li>با دیتا نویزی خوب کار میکند</li>\n",
    "  <p>نقاط ضعف</p>\n",
    "  <li>محاسبات سنگین</li>\n",
    "  <li>نسبت به شکل خوشه حساس است</li>\n",
    "\n",
    "</div>"
   ]
  },
  {
   "cell_type": "code",
   "execution_count": 2,
   "metadata": {},
   "outputs": [],
   "source": [
    "cap = cv2.VideoCapture(\"../data/car.mp4\")\n",
    "\n",
    "# take first frame of the video\n",
    "ret,frame = cap.read()\n",
    "\n",
    "# Get the height and width of the frame (required to be an interger)\n",
    "width = int(cap.get(3)) \n",
    "height = int(cap.get(4))\n",
    "\n",
    "# Define the codec and create VideoWriter object. The output is stored in '*.avi' file.\n",
    "out = cv2.VideoWriter('../data/car_meanshift.avi', cv2.VideoWriter_fourcc(*\"MJPG\"), 30, (width, height))\n",
    "\n",
    "# setup initial location of window\n",
    "y,h,x,w = 320,90,600,125  # simply hardcoded the values\n",
    "track_window = (x,y,w,h)\n",
    "\n",
    "# set up the ROI for tracking\n",
    "roi = frame[y:y+h, x:x+w]\n",
    "hsv_roi =  cv2.cvtColor(frame, cv2.COLOR_BGR2HSV)\n",
    "mask = None\n",
    "# mask = cv2.inRange(hsv_roi, np.array((0., 60.,32.)), np.array((180.,255.,255.)))\n",
    "roi_hist = cv2.calcHist([hsv_roi],[0],mask,[180],[0,180])\n",
    "cv2.normalize(roi_hist,roi_hist,0,255,cv2.NORM_MINMAX)\n",
    "\n",
    "# Setup the termination criteria, either 10 iteration or move by atleast 1 pt\n",
    "term_crit = ( cv2.TERM_CRITERIA_EPS | cv2.TERM_CRITERIA_COUNT, 10, 1 )\n",
    "\n",
    "while(1):\n",
    "    ret, frame = cap.read()\n",
    "\n",
    "    if ret is True:\n",
    "        hsv = cv2.cvtColor(frame, cv2.COLOR_BGR2HSV)\n",
    "        dst = cv2.calcBackProject([hsv],[0],roi_hist,[0,180],1)\n",
    "\n",
    "        # apply meanshift to get the new location\n",
    "        ret, track_window = cv2.meanShift(dst, track_window, term_crit)\n",
    "\n",
    "        # Draw it on image\n",
    "        x,y,w,h = track_window\n",
    "        img2 = cv2.rectangle(frame, (x,y), (x+w,y+h), (255,255,255),2)\n",
    "        out.write(img2)\n",
    "        #imshow('Tracking', img2)\n",
    "\n",
    "    else:\n",
    "        break\n",
    "\n",
    "cap.release()\n",
    "out.release()"
   ]
  },
  {
   "cell_type": "code",
   "execution_count": 4,
   "metadata": {},
   "outputs": [
    {
     "data": {
      "text/html": [
       "<video src=\"../data/car racing.mp4\" controls  >\n",
       "      Your browser does not support the <code>video</code> element.\n",
       "    </video>"
      ],
      "text/plain": [
       "<IPython.core.display.Video object>"
      ]
     },
     "execution_count": 4,
     "metadata": {},
     "output_type": "execute_result"
    }
   ],
   "source": [
    "IPython.display.Video(url=\"../data/car racing.mp4\")"
   ]
  },
  {
   "cell_type": "markdown",
   "metadata": {
    "vscode": {
     "languageId": "html"
    }
   },
   "source": [
    "<div dir=\"rtl\" style=\"line-height: 1.9\">\n",
    "<h1>Cam Shift</h1>\n",
    "<p>این الگوریتم بسط داده شده شیفت میانگین است MeanShift از یک پنجره جستجو با اندازه ثابت استفاده می کند، در حالی که CamShift از یک پنجره جستجوی  پویا استفاده می کند که می تواند با تغییرات در اندازه و شکل شی تطبیق یابد.</p>\n",
    "<p style=\"text-align:center\"><img src=\"https://upload.wikimedia.org/wikipedia/commons/8/86/CamshiftStillImage.gif\"></p>\n",
    "</div>"
   ]
  },
  {
   "cell_type": "code",
   "execution_count": null,
   "metadata": {},
   "outputs": [],
   "source": [
    "cap = cv2.VideoCapture(\"../data/car.mp4\")\n",
    "\n",
    "# take first frame of the video\n",
    "ret,frame = cap.read()\n",
    "\n",
    "# Get the height and width of the frame (required to be an interger)\n",
    "width = int(cap.get(3)) \n",
    "height = int(cap.get(4))\n",
    "\n",
    "# Define the codec and create VideoWriter object. The output is stored in '*.avi' file.\n",
    "out = cv2.VideoWriter('../data/car_camshift.avi', cv2.VideoWriter_fourcc('M','J','P','G'), 30, (width, height))\n",
    "\n",
    "# setup initial location of window\n",
    "y,h,x,w = 250,90,400,125  # simply hardcoded the values\n",
    "track_window = (x,y,w,h)\n",
    "\n",
    "# set up the ROI for tracking\n",
    "roi = frame[y:y+h, x:x-w]\n",
    "hsv_roi =  cv2.cvtColor(frame, cv2.COLOR_BGR2HSV)\n",
    "mask = None\n",
    "roi_hist = cv2.calcHist([hsv_roi],[0],mask,[180],[0,180])\n",
    "cv2.normalize(roi_hist,roi_hist,0,255,cv2.NORM_MINMAX)\n",
    "\n",
    "# Setup the termination criteria, either 10 iteration or move by atleast 1 pt\n",
    "term_crit = ( cv2.TERM_CRITERIA_EPS | cv2.TERM_CRITERIA_COUNT, 10, 1 )\n",
    "\n",
    "while(1):\n",
    "    ret ,frame = cap.read()\n",
    "\n",
    "    if ret is True:\n",
    "        hsv = cv2.cvtColor(frame, cv2.COLOR_BGR2HSV)\n",
    "        dst = cv2.calcBackProject([hsv],[0],roi_hist,[0,180],1)\n",
    "\n",
    "        # apply meanshift to get the new location\n",
    "        ret, track_window = cv2.CamShift(dst, track_window, term_crit)\n",
    "\n",
    "        # Draw it on image\n",
    "        pts = cv2.boxPoints(ret)\n",
    "        pts = np.intp(pts)\n",
    "        img2 = cv2.polylines(frame,[pts],True, 255,2)\n",
    "        out.write(img2)\n",
    "        #imshow('img2',img2)\n",
    "\n",
    "    else:\n",
    "        break\n",
    "\n",
    "cap.release()\n",
    "out.release()"
   ]
  }
 ],
 "metadata": {
  "kernelspec": {
   "display_name": "Python 3 (ipykernel)",
   "language": "python",
   "name": "python3"
  },
  "language_info": {
   "codemirror_mode": {
    "name": "ipython",
    "version": 3
   },
   "file_extension": ".py",
   "mimetype": "text/x-python",
   "name": "python",
   "nbconvert_exporter": "python",
   "pygments_lexer": "ipython3",
   "version": "3.12.3"
  }
 },
 "nbformat": 4,
 "nbformat_minor": 4
}
