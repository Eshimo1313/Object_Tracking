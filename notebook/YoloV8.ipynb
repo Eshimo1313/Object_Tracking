{
 "cells": [
  {
   "cell_type": "markdown",
   "metadata": {},
   "source": [
    "<div dir=\"rtl\" style=\"line-height: 1.9\">\n",
    "<h1>عرفان شیرمحمدی</h1>\n",
    "</div>"
   ]
  },
  {
   "cell_type": "code",
   "execution_count": null,
   "metadata": {},
   "outputs": [],
   "source": [
    "import cv2\n",
    "from ultralytics import YOLO\n",
    "from ultralytics.utils.plotting import Annotator, colors\n",
    "import IPython\n",
    "from collections import defaultdict\n",
    "\n",
    "model = YOLO(\"yolov8n-seg.pt\")  # segmentation model"
   ]
  },
  {
   "cell_type": "markdown",
   "metadata": {},
   "source": [
    "<div dir=\"rtl\" style=\"line-height: 1.9\">\n",
    "  <h1>YOLO</h1>\n",
    "  <p>\"you look only once\" الگوریتم YOLO تصویر ورودی را به شبکه‌ای از سلول‌ها تقسیم می‌کند و برای هر سلول، احتمال وجود یک شی و مختصات جعبه مرزی شی را  از طریق مدل CNN استخراج میکند و پیش‌بینی می‌کن</p>\n",
    "  <p><img src=\"../data/Q.png\"></p>\n",
    "  <p>نقاط قوت : </p>\n",
    "  <li>سرعت بالا : الگوریتم yolo نسبت به سایر الگوریتم ها تشخیص و ردایابی اشیا سرعت بسیار بیشتری دارد و در برنامه های realtime استفاده میشود مانند ماشین های خودران و یا سیستم های امنیتی\n",
    "  <li>دقت بالا : این الگوریتم نسبت به سرعت بالای ان دقت خوبی در تشخیص اشیا دارد \n",
    "  <li>فریم ورک یکپارجه : این الگوریتم طبقه بندیی و پیش بینی را در یک شبکه ادغام میکند و فرایند اموزش را اسان میکند\n",
    "  <p>نقاط ضعف : </p>\n",
    "  <li>دقت : به دلیل سرعت بالای تشخیص دقت مدل کاهش میابد\n",
    "  <li>این مدل توانایی پایینی در تشخیص اجسام کوچک دارد\n",
    "\n",
    "</div>"
   ]
  },
  {
   "cell_type": "code",
   "execution_count": 1,
   "metadata": {},
   "outputs": [
    {
     "data": {
      "text/html": [
       "<video src=\"../data/car.mp4\" controls  >\n",
       "      Your browser does not support the <code>video</code> element.\n",
       "    </video>"
      ],
      "text/plain": [
       "<IPython.core.display.Video object>"
      ]
     },
     "execution_count": 1,
     "metadata": {},
     "output_type": "execute_result"
    }
   ],
   "source": [
    "IPython.display.Video(url=\"../data/car.mp4\")"
   ]
  },
  {
   "cell_type": "code",
   "execution_count": null,
   "metadata": {},
   "outputs": [],
   "source": [
    "track_history = defaultdict(lambda: [])\n",
    "cap = cv2.VideoCapture(\"../data/car.mp4\")\n",
    "\n",
    "w, h, fps = (\n",
    "    int(cap.get(x))\n",
    "    for x in (cv2.CAP_PROP_FRAME_WIDTH, cv2.CAP_PROP_FRAME_HEIGHT, cv2.CAP_PROP_FPS)\n",
    ")\n",
    "\n",
    "out = cv2.VideoWriter(\n",
    "    \"../data/car_test_yolov8.avi\",\n",
    "    cv2.VideoWriter_fourcc(*\"MJPG\"),\n",
    "    fps,\n",
    "    (w, h),\n",
    ")\n",
    "\n",
    "while True:\n",
    "    ret, im0 = cap.read()\n",
    "    if not ret:\n",
    "        print(\n",
    "            \"Video frame is empty or video processing has been successfully completed.\"\n",
    "        )\n",
    "        break\n",
    "\n",
    "    annotator = Annotator(im0, line_width=2)\n",
    "\n",
    "    results = model.track(im0, persist=True)\n",
    "\n",
    "    if results[0].boxes.id is not None and results[0].masks is not None:\n",
    "        masks = results[0].masks.xy\n",
    "        track_ids = results[0].boxes.id.int().cpu().tolist()\n",
    "\n",
    "        for mask, track_id in zip(masks, track_ids):\n",
    "            annotator.seg_bbox(\n",
    "                mask=mask, mask_color=colors(track_id, True), track_label=str(track_id)\n",
    "            )\n",
    "\n",
    "    out.write(im0)\n",
    "\n",
    "    # if cv2.waitKey(1) & 0xFF == ord(\"q\"):\n",
    "    #     break\n",
    "\n",
    "out.release()\n",
    "cap.release()"
   ]
  }
 ],
 "metadata": {
  "kernelspec": {
   "display_name": ".venv",
   "language": "python",
   "name": "python3"
  },
  "language_info": {
   "codemirror_mode": {
    "name": "ipython",
    "version": 3
   },
   "file_extension": ".py",
   "mimetype": "text/x-python",
   "name": "python",
   "nbconvert_exporter": "python",
   "pygments_lexer": "ipython3",
   "version": "3.12.3"
  }
 },
 "nbformat": 4,
 "nbformat_minor": 2
}
